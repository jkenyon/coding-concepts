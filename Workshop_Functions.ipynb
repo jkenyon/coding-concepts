{
 "cells": [
  {
   "cell_type": "markdown",
   "metadata": {},
   "source": [
    "# Functions\n",
    "\n",
    "*The first rule of functions is that they should be small. The second rule is that they should be smaller.* (Martin, 2008)\n",
    "\n",
    "Functions make a program run. It's in the name: *function*. Generally, functions are defined using a specific term in the language, e.g.:\n",
    "* In Python, it's ```def``` \n",
    "* In R, it's ```function``` \n",
    "* In Javascript, it's also ```function```\n",
    "\n",
    "Most code is a draft, especially when we are not professional developers!  If you don't write it perfectly, that's fine.  If it still works, that's even better. But generally, if you're going to share this with others, try to \"edit\" your code to make it better, just like a paper."
   ]
  },
  {
   "cell_type": "code",
   "execution_count": 18,
   "metadata": {},
   "outputs": [],
   "source": [
    "numbersToCount = [1, 2, 3, 4, 5]\n",
    "\n",
    "def countNumbers(numbers):\n",
    "    total = 0\n",
    "    for n in numbers:\n",
    "        total += n\n",
    "    print(total)"
   ]
  },
  {
   "cell_type": "code",
   "execution_count": 19,
   "metadata": {},
   "outputs": [
    {
     "name": "stdout",
     "output_type": "stream",
     "text": [
      "15\n"
     ]
    }
   ],
   "source": [
    "countSomeNumbers(numbersToCount)"
   ]
  },
  {
   "cell_type": "markdown",
   "metadata": {},
   "source": [
    "## Functional Etiquette\n",
    "\n",
    "The reason functions should be small is that they are supposed to do one thing.  Look at the function below.  How many things is it doing?"
   ]
  },
  {
   "cell_type": "code",
   "execution_count": 51,
   "metadata": {},
   "outputs": [],
   "source": [
    "numbersToCount = [1, 2, 3, 4, 5]"
   ]
  },
  {
   "cell_type": "code",
   "execution_count": 52,
   "metadata": {},
   "outputs": [],
   "source": [
    "def countNumbers(numbers):\n",
    "    total = 0\n",
    "    if isinstance(numbers, list):  # test whether or not the variable is a list\n",
    "        for n in numbers:\n",
    "            total += n  # count the numbers\n",
    "        print(total)\n",
    "    else:\n",
    "        input_type = type(numbersToTest)\n",
    "        return(\"Exception - this isn't a *list* of numbers! It's a \" + str(input_type))"
   ]
  },
  {
   "cell_type": "markdown",
   "metadata": {},
   "source": [
    "Notice that it still works, it is just not \"best practice.\""
   ]
  },
  {
   "cell_type": "code",
   "execution_count": 53,
   "metadata": {},
   "outputs": [
    {
     "name": "stdout",
     "output_type": "stream",
     "text": [
      "15\n"
     ]
    }
   ],
   "source": [
    "countSomeNumbers(numbersToCount)"
   ]
  },
  {
   "cell_type": "markdown",
   "metadata": {},
   "source": [
    "Here's a better example, where we've split the two functions into two separate, small units, that do one thing each."
   ]
  },
  {
   "cell_type": "code",
   "execution_count": 54,
   "metadata": {},
   "outputs": [],
   "source": [
    "numbersToTest = {\"numbers\":[1, 2, 3, 4, 5]}"
   ]
  },
  {
   "cell_type": "code",
   "execution_count": 55,
   "metadata": {},
   "outputs": [],
   "source": [
    "def determineTypeForCounting(numbersToTest):\n",
    "    if isinstance(numbersToTest, list):  # test whether or not the variable is a list\n",
    "        countNumbers(numbersToTest)\n",
    "    else:\n",
    "        input_type = type(numbersToTest)\n",
    "        return(\"Exception - this isn't a *list* of numbers! It's a \" + str(input_type))\n",
    "\n",
    "def countNumbers(numbersToCount): \n",
    "        total = 0\n",
    "        for number in numbersToCount: # count the numbers\n",
    "            total += number\n",
    "        print(total)"
   ]
  },
  {
   "cell_type": "code",
   "execution_count": 56,
   "metadata": {},
   "outputs": [
    {
     "data": {
      "text/plain": [
       "\"Exception - this isn't a *list* of numbers! It's a <class 'dict'>\""
      ]
     },
     "execution_count": 56,
     "metadata": {},
     "output_type": "execute_result"
    }
   ],
   "source": [
    "determineTypeForCounting(numbersToTest)"
   ]
  }
 ],
 "metadata": {
  "kernelspec": {
   "display_name": "Python 3",
   "language": "python",
   "name": "python3"
  },
  "language_info": {
   "codemirror_mode": {
    "name": "ipython",
    "version": 3
   },
   "file_extension": ".py",
   "mimetype": "text/x-python",
   "name": "python",
   "nbconvert_exporter": "python",
   "pygments_lexer": "ipython3",
   "version": "3.7.3"
  }
 },
 "nbformat": 4,
 "nbformat_minor": 2
}
