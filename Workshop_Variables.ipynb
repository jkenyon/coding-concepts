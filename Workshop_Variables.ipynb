{
 "cells": [
  {
   "cell_type": "markdown",
   "metadata": {},
   "source": [
    "# Variables\n",
    "\n",
    "*Programming is a social activity.* (Martin, 2008)\n",
    "\n",
    "Variables are strings of alphanumeric characters that allow us to store information within them.  Variables are flexible and can be re-used.  In order for us to \"remember\" data as we write code, we need variables to store these data until they are used again.\n",
    "\n",
    "A quick overview of data types:\n",
    "\n",
    "* Strings: ```str``` alphanumeric patterns, recognizable to us, but meaningless to computers.  Strings are usually enclosed in quotation marks.\n",
    "\n",
    "* Integers: ```int``` real, whole numbers without quotation marks.  Computers are for computing the output of mathematical functions, thus, integers are about as \"natural\" as it gets.\n",
    "\n",
    "* Floats: ```float``` floating point numbers.  Basically, just numbers with decimals, either as fractions, or a specific format, such as decimal degrees in coordinate systems. Enables the computation of things at tremendous scales. (Read more here)[https://floating-point-gui.de/formats/fp/]\n",
    "\n",
    "* Arrays or lists: ```list``` a set of items, be it strings or integers or other lists, etc.  Usually, arrays/lists are written as comma-separated sets between brackets, i.e \\[ or \\]\n",
    "\n",
    "* Dictionaries: ```dict``` pairs of items, usually called \"keys\" and \"values\" or key-value pairs.  These can be nested within each other, so a value, could be another key-value pair, ad nauseum.  This is the basic structure of JSON, or Javascript Object Notation."
   ]
  },
  {
   "cell_type": "code",
   "execution_count": null,
   "metadata": {},
   "outputs": [],
   "source": [
    "classroomSeats = 30"
   ]
  },
  {
   "cell_type": "code",
   "execution_count": null,
   "metadata": {},
   "outputs": [],
   "source": [
    "print(classroomSeats)"
   ]
  },
  {
   "cell_type": "code",
   "execution_count": null,
   "metadata": {},
   "outputs": [],
   "source": [
    "type(classroomSeats)"
   ]
  },
  {
   "cell_type": "code",
   "execution_count": null,
   "metadata": {},
   "outputs": [],
   "source": [
    "classroomSeats = \"30\""
   ]
  },
  {
   "cell_type": "code",
   "execution_count": null,
   "metadata": {},
   "outputs": [],
   "source": [
    "print(classroomSeats)"
   ]
  },
  {
   "cell_type": "code",
   "execution_count": null,
   "metadata": {},
   "outputs": [],
   "source": [
    "type(classroomSeats)"
   ]
  },
  {
   "cell_type": "code",
   "execution_count": null,
   "metadata": {},
   "outputs": [],
   "source": [
    "classroomSeats = [30,\"30\",\"thirty\"]\n",
    "\n",
    "#ingredients = [\"banana\",\"kiwi\",\"apple\"]"
   ]
  },
  {
   "cell_type": "code",
   "execution_count": null,
   "metadata": {},
   "outputs": [],
   "source": [
    "print(classroomSeats)\n",
    "\n",
    "#print(sorted(ingredients))"
   ]
  },
  {
   "cell_type": "code",
   "execution_count": null,
   "metadata": {},
   "outputs": [],
   "source": [
    "type(classroomSeats)"
   ]
  },
  {
   "cell_type": "code",
   "execution_count": null,
   "metadata": {},
   "outputs": [],
   "source": [
    "classroomSeats = {\"classroom1\":[30,\"30\",\"thirty\"],\"classroom2\":[30,\"trente\"]}"
   ]
  },
  {
   "cell_type": "code",
   "execution_count": null,
   "metadata": {},
   "outputs": [],
   "source": [
    "print(classroomSeats)"
   ]
  },
  {
   "cell_type": "code",
   "execution_count": null,
   "metadata": {},
   "outputs": [],
   "source": [
    "type(classroomSeats)"
   ]
  },
  {
   "cell_type": "code",
   "execution_count": null,
   "metadata": {},
   "outputs": [],
   "source": [
    "classroomSeats = 30.8"
   ]
  },
  {
   "cell_type": "code",
   "execution_count": null,
   "metadata": {},
   "outputs": [],
   "source": [
    "print(classroomSeats)"
   ]
  },
  {
   "cell_type": "code",
   "execution_count": null,
   "metadata": {},
   "outputs": [],
   "source": [
    "type(classroomSeats)"
   ]
  },
  {
   "cell_type": "markdown",
   "metadata": {},
   "source": [
    "## Naming\n",
    "\n",
    "*\"The name of a variable, function, or class, should answer all the big questions. It should tell you why it exists, what it does, and how it is used. If a name requires a comment, then the name does not reveal its intent.\"* (Martin, 2008)\n",
    "\n",
    "Compare the two variables below.  Which one is easier for someone else to understand?  Which is easier for you to understand a year from now?"
   ]
  },
  {
   "cell_type": "code",
   "execution_count": null,
   "metadata": {},
   "outputs": [],
   "source": [
    "d = 45 #elapsed time in days\n",
    "e = 31 #days since the item was created\n",
    "f = 5  #days since the item was modified\n",
    "\n",
    "elapsedTimeInDays = 45\n",
    "daysSinceCreation = 31\n",
    "daysSinceModification = 5"
   ]
  },
  {
   "cell_type": "code",
   "execution_count": null,
   "metadata": {},
   "outputs": [],
   "source": [
    "elapsedTimeInDays"
   ]
  },
  {
   "cell_type": "markdown",
   "metadata": {},
   "source": [
    "Try not to use words that mean explicit things in your programming language.  Below, can you see the difference between the two cells?"
   ]
  },
  {
   "cell_type": "code",
   "execution_count": null,
   "metadata": {},
   "outputs": [],
   "source": [
    "accountList = \"George, Sally, John\""
   ]
  },
  {
   "cell_type": "code",
   "execution_count": null,
   "metadata": {},
   "outputs": [],
   "source": [
    "list(accountList)"
   ]
  },
  {
   "cell_type": "code",
   "execution_count": null,
   "metadata": {},
   "outputs": [],
   "source": [
    "accountList = [\"George\", \"Sally\", \"John\"]"
   ]
  },
  {
   "cell_type": "code",
   "execution_count": null,
   "metadata": {},
   "outputs": [],
   "source": [
    "list(accountList)"
   ]
  },
  {
   "cell_type": "markdown",
   "metadata": {},
   "source": [
    "Word selection matters, just like in writing.  Pick the right word to convey meaning with as little explanation as possible.\n",
    "\n",
    "If you are querying, i.e. sending a formal query in a specified *query language*, pick that word!  \n",
    "\n",
    "Don't use get or even retrieve, since those are fairly abstract.  \n",
    "\n",
    "In fact, **don't use** \"get\".  Ever."
   ]
  },
  {
   "cell_type": "code",
   "execution_count": null,
   "metadata": {},
   "outputs": [],
   "source": [
    "getDataFromSystem = ''\n",
    "retrieveDataFromSystem = ''\n",
    "queryDataFromSystem = ''"
   ]
  },
  {
   "cell_type": "markdown",
   "metadata": {},
   "source": [
    "### Working with strings and integers"
   ]
  },
  {
   "cell_type": "code",
   "execution_count": null,
   "metadata": {},
   "outputs": [],
   "source": [
    "# Let's say our classroom is supposed to seat 20 people, but only has 15 chairs.  We might write this as follows:\n",
    "# Let's find the gap - the number of chairs we need to find.\n",
    "\n",
    "seats = 20\n",
    "chairs = 15\n",
    "\n",
    "gap = chairs - seats\n",
    "print(gap)"
   ]
  },
  {
   "cell_type": "code",
   "execution_count": null,
   "metadata": {},
   "outputs": [],
   "source": [
    "print(seats + chairs)\n",
    "print(seats*chairs)\n",
    "print(seats/chairs)"
   ]
  },
  {
   "cell_type": "code",
   "execution_count": null,
   "metadata": {},
   "outputs": [],
   "source": [
    "# Let's say our classroom is supposed to seat 20 people, but only has 15 chairs.  We might write this as follows:\n",
    "# Let's find the gap - the number of chairs we need to find.\n",
    "\n",
    "seats = \"20\"\n",
    "chairs = \"15\"\n",
    "\n",
    "gap = chairs + seats\n",
    "print(gap)"
   ]
  },
  {
   "cell_type": "code",
   "execution_count": null,
   "metadata": {},
   "outputs": [],
   "source": [
    "print(seats*chairs)\n",
    "print(seats/chairs)"
   ]
  },
  {
   "cell_type": "code",
   "execution_count": null,
   "metadata": {},
   "outputs": [],
   "source": [
    "name = \"Ellen Johnson\"\n",
    "number = 30\n",
    "print(len(name))\n",
    "print(name[4])"
   ]
  },
  {
   "cell_type": "code",
   "execution_count": null,
   "metadata": {},
   "outputs": [],
   "source": [
    "print(name[0:5])"
   ]
  },
  {
   "cell_type": "markdown",
   "metadata": {},
   "source": [
    "### Working with Arrays or Lists"
   ]
  },
  {
   "cell_type": "code",
   "execution_count": null,
   "metadata": {},
   "outputs": [],
   "source": [
    "students = [\"George\", \"Sally\", \"Alice\"]"
   ]
  },
  {
   "cell_type": "code",
   "execution_count": null,
   "metadata": {},
   "outputs": [],
   "source": [
    "print(students)"
   ]
  },
  {
   "cell_type": "code",
   "execution_count": null,
   "metadata": {},
   "outputs": [],
   "source": [
    "print(students[0])"
   ]
  },
  {
   "cell_type": "code",
   "execution_count": null,
   "metadata": {},
   "outputs": [],
   "source": [
    "print(students[1])"
   ]
  },
  {
   "cell_type": "code",
   "execution_count": null,
   "metadata": {},
   "outputs": [],
   "source": [
    "print(students[2])"
   ]
  },
  {
   "cell_type": "code",
   "execution_count": null,
   "metadata": {},
   "outputs": [],
   "source": [
    "print(students[0]+students[1]+students[2])"
   ]
  },
  {
   "cell_type": "code",
   "execution_count": null,
   "metadata": {},
   "outputs": [],
   "source": [
    "len(students)"
   ]
  },
  {
   "cell_type": "code",
   "execution_count": null,
   "metadata": {},
   "outputs": [],
   "source": [
    "# how can you write this so that you will always get the last student in the list, as the list grows?\n",
    "\n",
    "print(students[2])"
   ]
  },
  {
   "cell_type": "markdown",
   "metadata": {},
   "source": [
    "### Working with Dictionaries"
   ]
  },
  {
   "cell_type": "code",
   "execution_count": null,
   "metadata": {},
   "outputs": [],
   "source": [
    "ingredients = {\"fruit\": [\"apple\", \"banana\", \"kiwi\"],\"vegetables\":[\"potato\", \"carrot\", \"turnip\"]}"
   ]
  },
  {
   "cell_type": "code",
   "execution_count": null,
   "metadata": {},
   "outputs": [],
   "source": [
    "print(ingredients)"
   ]
  },
  {
   "cell_type": "code",
   "execution_count": 64,
   "metadata": {},
   "outputs": [
    {
     "name": "stdout",
     "output_type": "stream",
     "text": [
      "apple\n"
     ]
    }
   ],
   "source": [
    "print(ingredients['fruit'][0])"
   ]
  },
  {
   "cell_type": "code",
   "execution_count": 65,
   "metadata": {},
   "outputs": [
    {
     "name": "stdout",
     "output_type": "stream",
     "text": [
      "turnip\n"
     ]
    }
   ],
   "source": [
    "foodItem = ingredients['vegetables'][2]\n",
    "print(foodItem)"
   ]
  },
  {
   "cell_type": "code",
   "execution_count": 70,
   "metadata": {},
   "outputs": [
    {
     "data": {
      "text/plain": [
       "{'fruit': ['apple', 'banana', 'kiwi'],\n",
       " 'vegetables': ['potato', 'carrot', 'turnip'],\n",
       " 'meat': 'fish'}"
      ]
     },
     "execution_count": 70,
     "metadata": {},
     "output_type": "execute_result"
    }
   ],
   "source": [
    "ingredients['meat'] = \"fish\"\n",
    "ingredients"
   ]
  },
  {
   "cell_type": "code",
   "execution_count": null,
   "metadata": {},
   "outputs": [],
   "source": [
    "ingredients['meat'] = ['fish', 'beef']"
   ]
  },
  {
   "cell_type": "markdown",
   "metadata": {},
   "source": [
    "## Operators\n",
    "\n",
    "Why are these so weird?\n",
    "\n",
    "Boolean logic reigns supreme.\n",
    "\n",
    "[Python docs on operators](https://docs.python.org/2/library/stdtypes.html"
   ]
  },
  {
   "cell_type": "code",
   "execution_count": 76,
   "metadata": {},
   "outputs": [],
   "source": [
    "titleA = \"Das Kapital\"\n",
    "titleB = \"das Kapital\""
   ]
  },
  {
   "cell_type": "code",
   "execution_count": 77,
   "metadata": {},
   "outputs": [
    {
     "data": {
      "text/plain": [
       "False"
      ]
     },
     "execution_count": 77,
     "metadata": {},
     "output_type": "execute_result"
    }
   ],
   "source": [
    "titleA == titleB"
   ]
  },
  {
   "cell_type": "code",
   "execution_count": 78,
   "metadata": {},
   "outputs": [
    {
     "data": {
      "text/plain": [
       "True"
      ]
     },
     "execution_count": 78,
     "metadata": {},
     "output_type": "execute_result"
    }
   ],
   "source": [
    "titleA.lower() == titleB.lower()"
   ]
  },
  {
   "cell_type": "code",
   "execution_count": 79,
   "metadata": {},
   "outputs": [
    {
     "name": "stdout",
     "output_type": "stream",
     "text": [
      "Boo!\n"
     ]
    }
   ],
   "source": [
    "if isinstance(titleA, dict):\n",
    "    print(\"Yay!\")\n",
    "else:\n",
    "    print(\"Boo!\")"
   ]
  },
  {
   "cell_type": "code",
   "execution_count": 80,
   "metadata": {},
   "outputs": [
    {
     "data": {
      "text/plain": [
       "True"
      ]
     },
     "execution_count": 80,
     "metadata": {},
     "output_type": "execute_result"
    }
   ],
   "source": [
    "titleA != titleB"
   ]
  },
  {
   "cell_type": "code",
   "execution_count": 81,
   "metadata": {},
   "outputs": [],
   "source": [
    "firstNumber = 42\n",
    "secondNumber = 3"
   ]
  },
  {
   "cell_type": "code",
   "execution_count": 86,
   "metadata": {},
   "outputs": [
    {
     "name": "stdout",
     "output_type": "stream",
     "text": [
      "True\n",
      "False\n",
      "True\n",
      "False\n"
     ]
    }
   ],
   "source": [
    "print(firstNumber > secondNumber)\n",
    "print(firstNumber < secondNumber)\n",
    "print(firstNumber >= secondNumber)\n",
    "print(firstNumber <= secondNumber)"
   ]
  },
  {
   "cell_type": "code",
   "execution_count": 89,
   "metadata": {},
   "outputs": [
    {
     "name": "stdout",
     "output_type": "stream",
     "text": [
      "True\n",
      "False\n"
     ]
    }
   ],
   "source": [
    "print(firstNumber == secondNumber or firstNumber > secondNumber) # note that 'or' is often two pipes, ||\n",
    "print(firstNumber == secondNumber and firstNumber > secondNumber) # note that 'and' is often two ampersands, &&"
   ]
  },
  {
   "cell_type": "code",
   "execution_count": null,
   "metadata": {},
   "outputs": [],
   "source": []
  },
  {
   "cell_type": "markdown",
   "metadata": {},
   "source": [
    "## References:\n",
    "\n",
    "* Martin, Robert C. \\(2008\\). *Clean Code.* New York, NY: Prentice Hall."
   ]
  },
  {
   "cell_type": "code",
   "execution_count": null,
   "metadata": {},
   "outputs": [],
   "source": []
  }
 ],
 "metadata": {
  "kernelspec": {
   "display_name": "Python 3",
   "language": "python",
   "name": "python3"
  },
  "language_info": {
   "codemirror_mode": {
    "name": "ipython",
    "version": 3
   },
   "file_extension": ".py",
   "mimetype": "text/x-python",
   "name": "python",
   "nbconvert_exporter": "python",
   "pygments_lexer": "ipython3",
   "version": "3.7.3"
  }
 },
 "nbformat": 4,
 "nbformat_minor": 2
}
